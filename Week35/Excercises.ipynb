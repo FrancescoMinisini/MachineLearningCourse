{
 "cells": [
  {
   "cell_type": "markdown",
   "id": "ebcf3dd4",
   "metadata": {},
   "source": [
    "\n",
    "# Week 35"
   ]
  },
  {
   "cell_type": "markdown",
   "id": "e48927c2",
   "metadata": {},
   "source": [
    "## Exercise 1 \n",
    "\n",
    "Let $a,x\\in\\mathbb{R}^n$, $A\\in\\mathbb{R}^{n\\times n}$, and **row gradients** $\\tfrac{\\partial f}{\\partial x}\\in\\mathbb{R}^{1\\times n}$.\n",
    "\n",
    "**(a) Shapes.**  \n",
    "- $a^\\top x$ is a scalar since $(1\\times n)(n\\times 1)\\to(1\\times 1)$.  \n",
    "- Therefore $\\dfrac{\\partial (a^\\top x)}{\\partial x}\\in\\mathbb{R}^{1\\times n}$ (row).\n",
    "\n",
    "**(b) $\\displaystyle \\frac{\\partial (a^\\top x)}{\\partial x}=a^\\top$.**  \n",
    "Write $$f(x)=a^\\top x=\\sum_{i=1}^n a_i x_i$$ Then  \n",
    "$\\frac{\\partial f}{\\partial x_j}= \\sum_{i=1}^n a_i \\delta_{ij} =a_j$ so stacking components gives the row gradient $a^\\top$.  \n",
    "\n",
    "\n",
    "**(c) $\\displaystyle \\frac{\\partial (a^\\top A a)}{\\partial a}=a^\\top(A+A^\\top)$.**  \n",
    "Lets consider $g(a)=\\sum_{i,j} a_i A_{ij} a_j$ Then  \n",
    "$$\\displaystyle \\frac{\\partial g}{\\partial a_k}=\n",
    "\\frac{\\partial \\sum_{i,j} a_i A_{ij} a_j}{\\partial a_k} = \\sum_{i,j} \\frac{\\partial  a_i A_{ij} a_j }{\\partial a_k}= \n",
    "\\sum_{i,j} \\delta_{ik} A_{ij} a_j + a_i A_{ij} \\delta_{kj} = $$\n",
    "$$\\sum_j A_{kj}a_j+\\sum_i a_i A_{ik}=(Aa)_k+(A^\\top a)_k$$\n",
    "so the row gradient is $a^\\top(A+A^\\top)$.  \n",
    "\n"
   ]
  },
  {
   "cell_type": "markdown",
   "id": "dc11571a",
   "metadata": {},
   "source": [
    "\n",
    "## Exercise 2 ##\n",
    "\n",
    "We minimize $$L(\\theta)=\\|y-X\\theta\\|_2^2=(y-X\\theta)^\\top (y-X\\theta)$$.  \n",
    "This is a convex quadratic; the stationary point is the global minimizer for the Fermat theorem.\n",
    "\n",
    "(a) If $X$ is square and invertible and we impose $X\\theta=y$, then $\\theta=X^{-1}y$.\n",
    "\n",
    "(b) More generally, set $$\\nabla_\\theta L=-2X^\\top(y-X\\theta)=0 \\Rightarrow X^\\top X\\,\\theta=X^\\top y$$.  \n",
    "  If $X^\\top X$ invertible: $\\boxed{\\theta=(X^\\top X)^{-1}X^\\top y}$.  \n",
    "\n",
    "(c) We can define a new vector $\\boldsymbol{w=x-As}$ and rewrite the expression as $\\boldsymbol{w^Tw}$ which depends on $\\boldsymbol{s}$. Then we can take the partial derivative and, using the chain rule, we obtain: \n",
    "$$\\frac{\\partial(\\boldsymbol{w}^T\\boldsymbol{w})}{\\partial \\boldsymbol{s}}\n",
    "= \\boldsymbol{2w}^T\\frac{\\partial(\\boldsymbol{w})}{\\partial \\boldsymbol{s}} = \\boldsymbol{-2w}^T\\boldsymbol{A}=\\boldsymbol{-2(x-As)}^T\\boldsymbol{A}$$\n",
    "Where we used that $$\\frac{\\partial(\\boldsymbol{w})}{\\partial \\boldsymbol{s}}=\\boldsymbol{-A}$$\n",
    "\n",
    "(d) $$\n",
    "C(\\boldsymbol{\\theta})=\\frac{1}{n}\\left\\{\\left(\\boldsymbol{y}-\\boldsymbol{X}\\boldsymbol{\\theta}\\right)^T\\left(\\boldsymbol{y}-\\boldsymbol{X}\\boldsymbol{\\theta}\\right)\\right\\}$$\n",
    " \n",
    "We define the new vector $\\boldsymbol{w=y-X{\\theta}}$ \n",
    "\n",
    "Then, repeating the same steps as in (c), we obtain: \n",
    "$$\\frac{\\partial C(\\boldsymbol{\\theta})}{\\partial \\boldsymbol{\\boldsymbol{\\theta}}}=-\\frac{2}{n}\\left(\\boldsymbol{y}-\\boldsymbol{X}\\boldsymbol{\\theta}\\right)^T\\boldsymbol{X}$$\n",
    "\n",
    "We set this equation equal to zero and get:\n",
    "$$(\\boldsymbol{y}-\\boldsymbol{X}\\boldsymbol{\\theta})^T\\boldsymbol{X}=0$$"
   ]
  },
  {
   "cell_type": "markdown",
   "id": "105b7bd0",
   "metadata": {},
   "source": [
    "## Exercise 3 "
   ]
  },
  {
   "cell_type": "markdown",
   "id": "1eb180d9",
   "metadata": {},
   "source": [
    "**(a)** Initializing and preparing data"
   ]
  },
  {
   "cell_type": "code",
   "execution_count": 1,
   "id": "4de781c3",
   "metadata": {},
   "outputs": [],
   "source": [
    "import numpy as np\n",
    "\n",
    "# Data\n",
    "n = 20\n",
    "income = np.array([116.,161.,167.,118.,172.,163.,179.,173.,162.,116.,101.,176.,178.,172.,143.,135.,160.,101.,149.,125.])\n",
    "children = np.array([5,3,0,4,5,3,0,4,4,3,3,5,1,0,2,3,2,1,5,4])\n",
    "spending = np.array([152.,141.,102.,136.,161.,129.,99.,159.,160.,107.,98.,164.,121.,93.,112.,127.,117.,69.,156.,131.])\n",
    "\n",
    "# Feature matrix with intercept: [1, income, children]\n",
    "X = np.column_stack([np.ones(n), income, children])\n",
    "y = spending"
   ]
  },
  {
   "cell_type": "markdown",
   "id": "cffb8863",
   "metadata": {},
   "source": [
    "**(b)** Preparing the function for the evaluation of optimal parameters "
   ]
  },
  {
   "cell_type": "code",
   "execution_count": 2,
   "id": "f00f9b22",
   "metadata": {},
   "outputs": [
    {
     "name": "stdout",
     "output_type": "stream",
     "text": [
      "beta: [ 9.12808583  0.5119025  14.60743095]\n"
     ]
    }
   ],
   "source": [
    "def OLS_parameters(X, y):\n",
    "    return np.linalg.pinv(X.T @ X) @ (X.T @ y)\n",
    "\n",
    "beta = OLS_parameters(X, y)\n",
    "y_hat = X @ beta\n",
    "print(\"beta:\", beta)"
   ]
  },
  {
   "cell_type": "markdown",
   "id": "1bbd2b0a",
   "metadata": {},
   "source": [
    "## Exercise 4 "
   ]
  },
  {
   "cell_type": "markdown",
   "id": "cd0c7326",
   "metadata": {},
   "source": [
    "**(a) & (b)** Preparing data with specified seeds to ensure repetibility"
   ]
  },
  {
   "cell_type": "code",
   "execution_count": 3,
   "id": "c7700a42",
   "metadata": {},
   "outputs": [],
   "source": [
    "import matplotlib.pyplot as plt\n",
    "from sklearn.model_selection import train_test_split\n",
    "from sklearn.metrics import mean_squared_error\n",
    "\n",
    "SEED = 42\n",
    "np.random.seed(SEED)\n",
    "n = 100\n",
    "x = np.linspace(-3, 3, n)\n",
    "y = np.exp(-x**2) + 1.5*np.exp(-(x-2)**2) + np.random.normal(0, 0.1, size=n)"
   ]
  },
  {
   "cell_type": "markdown",
   "id": "01d40828",
   "metadata": {},
   "source": [
    "Preparing polynomial feature evaluation function "
   ]
  },
  {
   "cell_type": "code",
   "execution_count": 4,
   "id": "24be24dd",
   "metadata": {},
   "outputs": [],
   "source": [
    "def polynomial_features(x, p):\n",
    "    x = np.asarray(x).ravel()\n",
    "    X = np.zeros((len(x), p+1))\n",
    "    for i in range(p+1):\n",
    "        X[:, i] = x**i\n",
    "    return X"
   ]
  },
  {
   "cell_type": "markdown",
   "id": "8262a20e",
   "metadata": {},
   "source": [
    "Fast testo of the code with a fifth degree polynomial"
   ]
  },
  {
   "cell_type": "code",
   "execution_count": 5,
   "id": "ea3e3df6",
   "metadata": {},
   "outputs": [
    {
     "name": "stdout",
     "output_type": "stream",
     "text": [
      "Parameters of the polynomial of fifth degree: \n",
      "[ 0.82317631  0.30028248 -0.03303668  0.05006794 -0.00196428 -0.00891207]\n"
     ]
    }
   ],
   "source": [
    "# Fifth degree example\n",
    "p = 5\n",
    "X_poly = polynomial_features(x, p)\n",
    "params = OLS_parameters(X_poly , y)\n",
    "print(\"Parameters of the polynomial of fifth degree: \")\n",
    "print(params)"
   ]
  },
  {
   "cell_type": "markdown",
   "id": "e80d5649",
   "metadata": {},
   "source": [
    "**(c)** Preparation of the traning and testing data"
   ]
  },
  {
   "cell_type": "code",
   "execution_count": 6,
   "id": "aa1e96f5",
   "metadata": {},
   "outputs": [],
   "source": [
    "# Preparing traning and test X matrixes\n",
    "x_tr, x_te, y_tr, y_te = train_test_split(x, y, test_size=0.2, random_state=SEED)\n",
    "Xtr, Xte = polynomial_features(x_tr, p), polynomial_features(x_te, p)"
   ]
  },
  {
   "cell_type": "markdown",
   "id": "ed626e13",
   "metadata": {},
   "source": [
    "Calculating predictions and evaluating models"
   ]
  },
  {
   "cell_type": "code",
   "execution_count": 7,
   "id": "1ab53521",
   "metadata": {},
   "outputs": [
    {
     "name": "stdout",
     "output_type": "stream",
     "text": [
      "[deg=5] Train MSE=0.0206 | Test MSE=0.0177\n"
     ]
    }
   ],
   "source": [
    "# Calculating optimal parameters\n",
    "beta = OLS_parameters(Xtr, y_tr)\n",
    "\n",
    "#Predicting and evaluating both models\n",
    "y_pred_tr = Xtr @ beta\n",
    "y_pred_te = Xte @ beta\n",
    "mse_tr = mean_squared_error(y_tr,y_pred_tr)\n",
    "mse_te = mean_squared_error(y_te,y_pred_te)\n",
    "print(f\"[deg={p}] Train MSE={mse_tr:.4f} | Test MSE={mse_te:.4f}\")"
   ]
  },
  {
   "cell_type": "markdown",
   "id": "8e739ee8",
   "metadata": {},
   "source": [
    "**(d)** Evaluating model on trainig and test data"
   ]
  },
  {
   "cell_type": "code",
   "execution_count": 8,
   "id": "671fad41",
   "metadata": {},
   "outputs": [
    {
     "data": {
      "image/png": "[encoded data removed]",
      "text/plain": [
       "<Figure size 640x480 with 1 Axes>"
      ]
     },
     "metadata": {},
     "output_type": "display_data"
    }
   ],
   "source": [
    "# Degrees from 2 to 10\n",
    "deg_list = np.arange(2, 11)\n",
    "mse_train, mse_test = [], []\n",
    "for d in deg_list:\n",
    "    Xtr, Xte = polynomial_features(x_tr, d), polynomial_features(x_te, d)\n",
    "    b = OLS_parameters(Xtr, y_tr)\n",
    "    mse_train.append(mean_squared_error(y_tr, Xtr @ b))\n",
    "    mse_test.append(mean_squared_error(y_te, Xte @ b))\n",
    "\n",
    "plt.figure()\n",
    "plt.plot(deg_list, mse_train, marker=\"o\", label=\"Train MSE\")\n",
    "plt.plot(deg_list, mse_test,  marker=\"o\", label=\"Test MSE\")\n",
    "plt.grid()\n",
    "plt.xlabel(\"Polynomial degree\"); plt.ylabel(\"MSE\"); plt.legend(); plt.show()"
   ]
  },
  {
   "cell_type": "markdown",
   "id": "468afa99",
   "metadata": {},
   "source": [
    "**(f) Brief Interpretation**\n",
    "\n",
    "We observe that the training MSE decreases because the function we aim to approximate can be expressed as a Taylor expansion, an infinite degree polynomial. As the polynomial degree of our model increases, it becomes capable of interpolating the given data points more closely. However, since the data contains noise, a sufficiently high-degree polynomial will also start fitting this noise.\n",
    "\n",
    "The issue arises when we use this model for prediction: it overfits the training data, leading to a higher test MSE. This problem occurs when we fit a polynomial of excessively high degree without having enough data to support such complexity."
   ]
  },
  {
   "cell_type": "markdown",
   "id": "60d2df5f",
   "metadata": {},
   "source": [
    "## Excercise 5 ##"
   ]
  },
  {
   "cell_type": "markdown",
   "id": "ac2999ec",
   "metadata": {},
   "source": [
    "**(a)** Recalculating using sklearn function to compare results"
   ]
  },
  {
   "cell_type": "code",
   "execution_count": 9,
   "id": "8b591537",
   "metadata": {},
   "outputs": [
    {
     "name": "stdout",
     "output_type": "stream",
     "text": [
      "Difference matrix: \n",
      "[[ 0.00000000e+00  0.00000000e+00  0.00000000e+00  0.00000000e+00\n",
      "   0.00000000e+00  0.00000000e+00]\n",
      " [ 0.00000000e+00  0.00000000e+00  0.00000000e+00 -3.55271368e-15\n",
      "   1.42108547e-14 -5.68434189e-14]\n",
      " [ 0.00000000e+00  0.00000000e+00  0.00000000e+00  3.55271368e-15\n",
      "   0.00000000e+00  0.00000000e+00]\n",
      " [ 0.00000000e+00  0.00000000e+00  0.00000000e+00  0.00000000e+00\n",
      "   0.00000000e+00  0.00000000e+00]\n",
      " [ 0.00000000e+00  0.00000000e+00  0.00000000e+00  0.00000000e+00\n",
      "   0.00000000e+00  0.00000000e+00]\n",
      " [ 0.00000000e+00  0.00000000e+00  0.00000000e+00  0.00000000e+00\n",
      "   0.00000000e+00 -2.84217094e-14]\n",
      " [ 0.00000000e+00  0.00000000e+00  0.00000000e+00  0.00000000e+00\n",
      "  -7.10542736e-15  1.42108547e-14]\n",
      " [ 0.00000000e+00  0.00000000e+00  0.00000000e+00  0.00000000e+00\n",
      "   0.00000000e+00  0.00000000e+00]\n",
      " [ 0.00000000e+00  0.00000000e+00  0.00000000e+00  1.77635684e-15\n",
      "  -7.10542736e-15  0.00000000e+00]\n",
      " [ 0.00000000e+00  0.00000000e+00  0.00000000e+00  0.00000000e+00\n",
      "  -7.10542736e-15  1.42108547e-14]\n",
      " [ 0.00000000e+00  0.00000000e+00  0.00000000e+00  0.00000000e+00\n",
      "   0.00000000e+00  0.00000000e+00]\n",
      " [ 0.00000000e+00  0.00000000e+00  0.00000000e+00  0.00000000e+00\n",
      "   0.00000000e+00  0.00000000e+00]\n",
      " [ 0.00000000e+00  0.00000000e+00  0.00000000e+00 -1.77635684e-15\n",
      "   3.55271368e-15 -7.10542736e-15]\n",
      " [ 0.00000000e+00  0.00000000e+00  0.00000000e+00 -1.77635684e-15\n",
      "   3.55271368e-15  0.00000000e+00]\n",
      " [ 0.00000000e+00  0.00000000e+00  0.00000000e+00 -1.77635684e-15\n",
      "   3.55271368e-15 -7.10542736e-15]\n",
      " [ 0.00000000e+00  0.00000000e+00  0.00000000e+00  0.00000000e+00\n",
      "   0.00000000e+00  0.00000000e+00]\n",
      " [ 0.00000000e+00  0.00000000e+00  0.00000000e+00  0.00000000e+00\n",
      "   0.00000000e+00  0.00000000e+00]\n",
      " [ 0.00000000e+00  0.00000000e+00  0.00000000e+00 -8.88178420e-16\n",
      "   1.77635684e-15 -3.55271368e-15]\n",
      " [ 0.00000000e+00  0.00000000e+00  0.00000000e+00  0.00000000e+00\n",
      "   0.00000000e+00  0.00000000e+00]\n",
      " [ 0.00000000e+00  0.00000000e+00  0.00000000e+00  0.00000000e+00\n",
      "   0.00000000e+00  0.00000000e+00]\n",
      " [ 0.00000000e+00  0.00000000e+00  0.00000000e+00 -8.88178420e-16\n",
      "   1.77635684e-15 -3.55271368e-15]\n",
      " [ 0.00000000e+00  0.00000000e+00  0.00000000e+00  0.00000000e+00\n",
      "   0.00000000e+00  0.00000000e+00]\n",
      " [ 0.00000000e+00  0.00000000e+00  0.00000000e+00  0.00000000e+00\n",
      "   0.00000000e+00  0.00000000e+00]\n",
      " [ 0.00000000e+00  0.00000000e+00  0.00000000e+00  0.00000000e+00\n",
      "   0.00000000e+00  0.00000000e+00]\n",
      " [ 0.00000000e+00  0.00000000e+00  0.00000000e+00  0.00000000e+00\n",
      "   0.00000000e+00  0.00000000e+00]\n",
      " [ 0.00000000e+00  0.00000000e+00  0.00000000e+00 -4.44089210e-16\n",
      "   8.88178420e-16 -1.77635684e-15]\n",
      " [ 0.00000000e+00  0.00000000e+00  0.00000000e+00  0.00000000e+00\n",
      "  -8.88178420e-16  8.88178420e-16]\n",
      " [ 0.00000000e+00  0.00000000e+00  0.00000000e+00  0.00000000e+00\n",
      "   0.00000000e+00  0.00000000e+00]\n",
      " [ 0.00000000e+00  0.00000000e+00  0.00000000e+00  0.00000000e+00\n",
      "   0.00000000e+00  0.00000000e+00]\n",
      " [ 0.00000000e+00  0.00000000e+00  0.00000000e+00  0.00000000e+00\n",
      "   0.00000000e+00  0.00000000e+00]\n",
      " [ 0.00000000e+00  0.00000000e+00  0.00000000e+00  0.00000000e+00\n",
      "   0.00000000e+00  0.00000000e+00]\n",
      " [ 0.00000000e+00  0.00000000e+00  0.00000000e+00  2.22044605e-16\n",
      "   0.00000000e+00  0.00000000e+00]\n",
      " [ 0.00000000e+00  0.00000000e+00  0.00000000e+00  0.00000000e+00\n",
      "   0.00000000e+00  0.00000000e+00]\n",
      " [ 0.00000000e+00  0.00000000e+00  0.00000000e+00  0.00000000e+00\n",
      "   0.00000000e+00  0.00000000e+00]\n",
      " [ 0.00000000e+00  0.00000000e+00  0.00000000e+00  0.00000000e+00\n",
      "   0.00000000e+00  0.00000000e+00]\n",
      " [ 0.00000000e+00  0.00000000e+00  0.00000000e+00  0.00000000e+00\n",
      "   0.00000000e+00  0.00000000e+00]\n",
      " [ 0.00000000e+00  0.00000000e+00  0.00000000e+00  0.00000000e+00\n",
      "   0.00000000e+00  0.00000000e+00]\n",
      " [ 0.00000000e+00  0.00000000e+00  0.00000000e+00  0.00000000e+00\n",
      "   5.55111512e-17 -2.77555756e-17]\n",
      " [ 0.00000000e+00  0.00000000e+00  0.00000000e+00  0.00000000e+00\n",
      "   0.00000000e+00  0.00000000e+00]\n",
      " [ 0.00000000e+00  0.00000000e+00  0.00000000e+00  0.00000000e+00\n",
      "   0.00000000e+00  0.00000000e+00]\n",
      " [ 0.00000000e+00  0.00000000e+00  0.00000000e+00  0.00000000e+00\n",
      "   0.00000000e+00  0.00000000e+00]\n",
      " [ 0.00000000e+00  0.00000000e+00  0.00000000e+00  0.00000000e+00\n",
      "   0.00000000e+00  0.00000000e+00]\n",
      " [ 0.00000000e+00  0.00000000e+00  0.00000000e+00  0.00000000e+00\n",
      "   0.00000000e+00  0.00000000e+00]\n",
      " [ 0.00000000e+00  0.00000000e+00  0.00000000e+00  0.00000000e+00\n",
      "   3.46944695e-18 -1.73472348e-18]\n",
      " [ 0.00000000e+00  0.00000000e+00  0.00000000e+00  0.00000000e+00\n",
      "   0.00000000e+00 -8.67361738e-19]\n",
      " [ 0.00000000e+00  0.00000000e+00  0.00000000e+00  0.00000000e+00\n",
      "   0.00000000e+00  0.00000000e+00]\n",
      " [ 0.00000000e+00  0.00000000e+00  0.00000000e+00  0.00000000e+00\n",
      "   0.00000000e+00  5.42101086e-20]\n",
      " [ 0.00000000e+00  0.00000000e+00  0.00000000e+00  0.00000000e+00\n",
      "   0.00000000e+00  0.00000000e+00]\n",
      " [ 0.00000000e+00  0.00000000e+00  0.00000000e+00  0.00000000e+00\n",
      "   1.35525272e-20 -8.47032947e-22]\n",
      " [ 0.00000000e+00  0.00000000e+00  0.00000000e+00  0.00000000e+00\n",
      "   0.00000000e+00  0.00000000e+00]\n",
      " [ 0.00000000e+00  0.00000000e+00  0.00000000e+00  0.00000000e+00\n",
      "   0.00000000e+00  0.00000000e+00]\n",
      " [ 0.00000000e+00  0.00000000e+00  0.00000000e+00  0.00000000e+00\n",
      "   1.35525272e-20  8.47032947e-22]\n",
      " [ 0.00000000e+00  0.00000000e+00  0.00000000e+00  0.00000000e+00\n",
      "   0.00000000e+00  0.00000000e+00]\n",
      " [ 0.00000000e+00  0.00000000e+00  0.00000000e+00  0.00000000e+00\n",
      "   0.00000000e+00 -5.42101086e-20]\n",
      " [ 0.00000000e+00  0.00000000e+00  0.00000000e+00  0.00000000e+00\n",
      "  -8.67361738e-19 -2.16840434e-19]\n",
      " [ 0.00000000e+00  0.00000000e+00  0.00000000e+00 -6.93889390e-18\n",
      "  -1.73472348e-18 -8.67361738e-19]\n",
      " [ 0.00000000e+00  0.00000000e+00  0.00000000e+00  0.00000000e+00\n",
      "   3.46944695e-18  1.73472348e-18]\n",
      " [ 0.00000000e+00  0.00000000e+00  0.00000000e+00  0.00000000e+00\n",
      "   0.00000000e+00  0.00000000e+00]\n",
      " [ 0.00000000e+00  0.00000000e+00  0.00000000e+00  0.00000000e+00\n",
      "   0.00000000e+00  0.00000000e+00]\n",
      " [ 0.00000000e+00  0.00000000e+00  0.00000000e+00  0.00000000e+00\n",
      "   0.00000000e+00  0.00000000e+00]\n",
      " [ 0.00000000e+00  0.00000000e+00  0.00000000e+00  0.00000000e+00\n",
      "   0.00000000e+00  0.00000000e+00]\n",
      " [ 0.00000000e+00  0.00000000e+00  0.00000000e+00  0.00000000e+00\n",
      "  -2.77555756e-17 -2.77555756e-17]\n",
      " [ 0.00000000e+00  0.00000000e+00  0.00000000e+00  5.55111512e-17\n",
      "   5.55111512e-17  2.77555756e-17]\n",
      " [ 0.00000000e+00  0.00000000e+00  0.00000000e+00  0.00000000e+00\n",
      "   0.00000000e+00  0.00000000e+00]\n",
      " [ 0.00000000e+00  0.00000000e+00  0.00000000e+00  0.00000000e+00\n",
      "   0.00000000e+00  0.00000000e+00]\n",
      " [ 0.00000000e+00  0.00000000e+00  0.00000000e+00  0.00000000e+00\n",
      "   0.00000000e+00  0.00000000e+00]\n",
      " [ 0.00000000e+00  0.00000000e+00  0.00000000e+00  0.00000000e+00\n",
      "   0.00000000e+00  0.00000000e+00]\n",
      " [ 0.00000000e+00  0.00000000e+00  0.00000000e+00  0.00000000e+00\n",
      "   0.00000000e+00  0.00000000e+00]\n",
      " [ 0.00000000e+00  0.00000000e+00  0.00000000e+00 -2.22044605e-16\n",
      "   0.00000000e+00  0.00000000e+00]\n",
      " [ 0.00000000e+00  0.00000000e+00  0.00000000e+00  0.00000000e+00\n",
      "   0.00000000e+00  0.00000000e+00]\n",
      " [ 0.00000000e+00  0.00000000e+00  0.00000000e+00  0.00000000e+00\n",
      "   0.00000000e+00  4.44089210e-16]\n",
      " [ 0.00000000e+00  0.00000000e+00  0.00000000e+00  0.00000000e+00\n",
      "   4.44089210e-16  4.44089210e-16]\n",
      " [ 0.00000000e+00  0.00000000e+00  0.00000000e+00  0.00000000e+00\n",
      "   0.00000000e+00  0.00000000e+00]\n",
      " [ 0.00000000e+00  0.00000000e+00  0.00000000e+00  0.00000000e+00\n",
      "   0.00000000e+00  0.00000000e+00]\n",
      " [ 0.00000000e+00  0.00000000e+00  0.00000000e+00  4.44089210e-16\n",
      "   8.88178420e-16  8.88178420e-16]\n",
      " [ 0.00000000e+00  0.00000000e+00  0.00000000e+00  0.00000000e+00\n",
      "   0.00000000e+00  0.00000000e+00]\n",
      " [ 0.00000000e+00  0.00000000e+00  0.00000000e+00  0.00000000e+00\n",
      "   0.00000000e+00  0.00000000e+00]\n",
      " [ 0.00000000e+00  0.00000000e+00  0.00000000e+00  8.88178420e-16\n",
      "   8.88178420e-16  0.00000000e+00]\n",
      " [ 0.00000000e+00  0.00000000e+00  0.00000000e+00  0.00000000e+00\n",
      "   0.00000000e+00 -1.77635684e-15]\n",
      " [ 0.00000000e+00  0.00000000e+00  0.00000000e+00  0.00000000e+00\n",
      "   0.00000000e+00 -3.55271368e-15]\n",
      " [ 0.00000000e+00  0.00000000e+00  0.00000000e+00  0.00000000e+00\n",
      "   0.00000000e+00  0.00000000e+00]\n",
      " [ 0.00000000e+00  0.00000000e+00  0.00000000e+00  0.00000000e+00\n",
      "   0.00000000e+00  0.00000000e+00]\n",
      " [ 0.00000000e+00  0.00000000e+00  0.00000000e+00  8.88178420e-16\n",
      "   1.77635684e-15  3.55271368e-15]\n",
      " [ 0.00000000e+00  0.00000000e+00  0.00000000e+00  0.00000000e+00\n",
      "   0.00000000e+00  0.00000000e+00]\n",
      " [ 0.00000000e+00  0.00000000e+00  0.00000000e+00  0.00000000e+00\n",
      "   0.00000000e+00  0.00000000e+00]\n",
      " [ 0.00000000e+00  0.00000000e+00  0.00000000e+00  1.77635684e-15\n",
      "   3.55271368e-15  7.10542736e-15]\n",
      " [ 0.00000000e+00  0.00000000e+00  0.00000000e+00  1.77635684e-15\n",
      "   3.55271368e-15  0.00000000e+00]\n",
      " [ 0.00000000e+00  0.00000000e+00  0.00000000e+00  1.77635684e-15\n",
      "   3.55271368e-15  7.10542736e-15]\n",
      " [ 0.00000000e+00  0.00000000e+00  0.00000000e+00  0.00000000e+00\n",
      "   3.55271368e-15  0.00000000e+00]\n",
      " [ 0.00000000e+00  0.00000000e+00  0.00000000e+00  0.00000000e+00\n",
      "   0.00000000e+00  0.00000000e+00]\n",
      " [ 0.00000000e+00  0.00000000e+00  0.00000000e+00 -1.77635684e-15\n",
      "  -7.10542736e-15 -1.42108547e-14]\n",
      " [ 0.00000000e+00  0.00000000e+00  0.00000000e+00  0.00000000e+00\n",
      "   0.00000000e+00  1.42108547e-14]\n",
      " [ 0.00000000e+00  0.00000000e+00  0.00000000e+00  0.00000000e+00\n",
      "   0.00000000e+00  1.42108547e-14]\n",
      " [ 0.00000000e+00  0.00000000e+00  0.00000000e+00  0.00000000e+00\n",
      "   7.10542736e-15  1.42108547e-14]\n",
      " [ 0.00000000e+00  0.00000000e+00  0.00000000e+00  0.00000000e+00\n",
      "  -7.10542736e-15  0.00000000e+00]\n",
      " [ 0.00000000e+00  0.00000000e+00  0.00000000e+00  0.00000000e+00\n",
      "   0.00000000e+00  0.00000000e+00]\n",
      " [ 0.00000000e+00  0.00000000e+00  0.00000000e+00  0.00000000e+00\n",
      "   0.00000000e+00  0.00000000e+00]\n",
      " [ 0.00000000e+00  0.00000000e+00  0.00000000e+00 -3.55271368e-15\n",
      "   0.00000000e+00  0.00000000e+00]\n",
      " [ 0.00000000e+00  0.00000000e+00  0.00000000e+00  3.55271368e-15\n",
      "   1.42108547e-14  5.68434189e-14]\n",
      " [ 0.00000000e+00  0.00000000e+00  0.00000000e+00  0.00000000e+00\n",
      "   0.00000000e+00  0.00000000e+00]]\n",
      "Norm of the difference matrix: ||X_mine - X_skl||_F = 9.813222356792074e-14\n"
     ]
    }
   ],
   "source": [
    "from sklearn.preprocessing import PolynomialFeatures\n",
    "from sklearn.linear_model import LinearRegression\n",
    "\n",
    "# Compare polynomial_features\n",
    "deg = 5\n",
    "X_mine = polynomial_features(x, deg)\n",
    "X_skl = PolynomialFeatures(degree=deg, include_bias=True).fit_transform(x.reshape(-1,1))\n",
    "print(f\"Difference matrix: \\n{X_mine - X_skl}\")\n",
    "print(\"Norm of the difference matrix: ||X_mine - X_skl||_F =\", np.linalg.norm(X_mine - X_skl))"
   ]
  },
  {
   "cell_type": "markdown",
   "id": "72560ddc",
   "metadata": {},
   "source": [
    "**(b)** Comaring model parameters parameters"
   ]
  },
  {
   "cell_type": "code",
   "execution_count": 10,
   "id": "9e62cd89",
   "metadata": {},
   "outputs": [
    {
     "name": "stdout",
     "output_type": "stream",
     "text": [
      "Difference array: \n",
      "[ 1.61093361e-13  7.54396545e-14 -8.26907987e-14 -2.34257058e-14\n",
      "  8.24340596e-15  1.55431223e-15]\n",
      "||beta_mine - beta_skl||_2 = 1.9773495870808514e-13\n"
     ]
    }
   ],
   "source": [
    "\n",
    "# Compare OLS parameters (fit_intercept=False because bias is already in X)\n",
    "Xtr = polynomial_features(x_tr, deg)\n",
    "ytr = y_tr\n",
    "beta_mine = OLS_parameters(Xtr, ytr)\n",
    "lr = LinearRegression(fit_intercept=False).fit(Xtr, ytr)\n",
    "beta_skl = lr.coef_\n",
    "print(f\"Difference array: \\n{beta_mine - beta_skl}\")\n",
    "print(\"||beta_mine - beta_skl||_2 =\", np.linalg.norm(beta_mine - beta_skl))\n"
   ]
  },
  {
   "cell_type": "markdown",
   "id": "159f69b9",
   "metadata": {},
   "source": [
    "As we expected the difference is sufficiently small to be justified by floating-point numerical errors, likely due to the pseudo-inverse computation and slight variations in the underlying algorithms"
   ]
  }
 ],
 "metadata": {
  "kernelspec": {
   "display_name": "venv",
   "language": "python",
   "name": "python3"
  },
  "language_info": {
   "codemirror_mode": {
    "name": "ipython",
    "version": 3
   },
   "file_extension": ".py",
   "mimetype": "text/x-python",
   "name": "python",
   "nbconvert_exporter": "python",
   "pygments_lexer": "ipython3",
   "version": "3.12.5"
  }
 },
 "nbformat": 4,
 "nbformat_minor": 5
}
